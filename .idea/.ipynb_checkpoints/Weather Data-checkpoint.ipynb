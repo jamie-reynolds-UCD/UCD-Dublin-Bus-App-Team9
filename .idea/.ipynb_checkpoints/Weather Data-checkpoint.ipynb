{
 "cells": [
  {
   "cell_type": "code",
   "execution_count": null,
   "id": "98aa0ad5",
   "metadata": {},
   "outputs": [],
   "source": [
    "import requests\n",
    "import pandas as pd\n",
    "import numpy as np\n",
    "import datetime"
   ]
  },
  {
   "cell_type": "code",
   "execution_count": null,
   "id": "e176722e",
   "metadata": {},
   "outputs": [],
   "source": [
    "weatherFiveDay = requests.get(\"http://api.openweathermap.org/data/2.5/forecast?lat=53.346&lon=-6.26986&appid=98310ef86bbb250277915291623ed079\")\n",
    "fiveDayJSON = weatherFiveDay.json()"
   ]
  },
  {
   "cell_type": "code",
   "execution_count": null,
   "id": "46014db2",
   "metadata": {},
   "outputs": [],
   "source": []
  }
 ],
 "metadata": {
  "kernelspec": {
   "display_name": "Python 3",
   "language": "python",
   "name": "python3"
  }
 },
 "nbformat": 4,
 "nbformat_minor": 5
}
